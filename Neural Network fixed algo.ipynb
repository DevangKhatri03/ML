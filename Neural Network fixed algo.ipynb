{
  "nbformat": 4,
  "nbformat_minor": 0,
  "metadata": {
    "colab": {
      "provenance": [],
      "authorship_tag": "ABX9TyOsd8r9erCkO45jVKjTvmRX",
      "include_colab_link": true
    },
    "kernelspec": {
      "name": "python3",
      "display_name": "Python 3"
    },
    "language_info": {
      "name": "python"
    }
  },
  "cells": [
    {
      "cell_type": "markdown",
      "metadata": {
        "id": "view-in-github",
        "colab_type": "text"
      },
      "source": [
        "<a href=\"https://colab.research.google.com/github/DevangKhatri03/ML/blob/main/Neural%20Network%20fixed%20algo.ipynb\" target=\"_parent\"><img src=\"https://colab.research.google.com/assets/colab-badge.svg\" alt=\"Open In Colab\"/></a>"
      ]
    },
    {
      "cell_type": "code",
      "execution_count": 2,
      "metadata": {
        "id": "ElWwHE9OCi_P"
      },
      "outputs": [],
      "source": [
        "import pandas as pd\n",
        "import tensorflow as tf\n",
        "from sklearn.model_selection import train_test_split\n",
        "from sklearn.preprocessing import StandardScaler"
      ]
    },
    {
      "cell_type": "code",
      "source": [
        "dataset = pd.read_csv(\"cancer.csv\")\n"
      ],
      "metadata": {
        "id": "1z_JK-jLCzGt"
      },
      "execution_count": 3,
      "outputs": []
    },
    {
      "cell_type": "code",
      "source": [
        "x = dataset.drop(columns=['diagnosis(1=m, 0=b)'])\n",
        "y = dataset['diagnosis(1=m, 0=b)']"
      ],
      "metadata": {
        "id": "lhoBdIA-C2Ci"
      },
      "execution_count": 4,
      "outputs": []
    },
    {
      "cell_type": "code",
      "source": [
        "scaler = StandardScaler()\n",
        "x = scaler.fit_transform(x)"
      ],
      "metadata": {
        "id": "cqYPcB-kC4Qf"
      },
      "execution_count": 5,
      "outputs": []
    },
    {
      "cell_type": "code",
      "source": [
        "x_train, x_test, y_train, y_test = train_test_split(x, y, test_size=0.2)"
      ],
      "metadata": {
        "id": "bA2wsE1TC7r0"
      },
      "execution_count": 6,
      "outputs": []
    },
    {
      "cell_type": "code",
      "source": [
        "model = tf.keras.models.Sequential()\n"
      ],
      "metadata": {
        "id": "jcACM1uOC_3D"
      },
      "execution_count": 7,
      "outputs": []
    },
    {
      "cell_type": "code",
      "source": [
        "model.add(tf.keras.layers.Dense(256, input_shape=(x_train.shape[1],), activation='relu'))\n",
        "model.add(tf.keras.layers.Dense(256, activation='relu'))\n",
        "model.add(tf.keras.layers.Dense(1, activation='sigmoid'))"
      ],
      "metadata": {
        "id": "Ozj1clYxDDbf"
      },
      "execution_count": 8,
      "outputs": []
    },
    {
      "cell_type": "code",
      "source": [
        "model.compile(optimizer='adam', loss='binary_crossentropy', metrics=['accuracy'])"
      ],
      "metadata": {
        "id": "c_XGqkfHDG_b"
      },
      "execution_count": 9,
      "outputs": []
    },
    {
      "cell_type": "code",
      "source": [
        "model.fit(x_train, y_train, epochs=100, batch_size=32)"
      ],
      "metadata": {
        "colab": {
          "base_uri": "https://localhost:8080/"
        },
        "id": "FrBWER23DLfE",
        "outputId": "d1b3a715-b564-4879-8f66-c60ca3b7064e"
      },
      "execution_count": 10,
      "outputs": [
        {
          "output_type": "stream",
          "name": "stdout",
          "text": [
            "Epoch 1/100\n",
            "15/15 [==============================] - 3s 8ms/step - loss: 0.2827 - accuracy: 0.9165\n",
            "Epoch 2/100\n",
            "15/15 [==============================] - 0s 7ms/step - loss: 0.0926 - accuracy: 0.9736\n",
            "Epoch 3/100\n",
            "15/15 [==============================] - 0s 8ms/step - loss: 0.0669 - accuracy: 0.9780\n",
            "Epoch 4/100\n",
            "15/15 [==============================] - 0s 4ms/step - loss: 0.0562 - accuracy: 0.9802\n",
            "Epoch 5/100\n",
            "15/15 [==============================] - 0s 4ms/step - loss: 0.0470 - accuracy: 0.9912\n",
            "Epoch 6/100\n",
            "15/15 [==============================] - 0s 5ms/step - loss: 0.0398 - accuracy: 0.9890\n",
            "Epoch 7/100\n",
            "15/15 [==============================] - 0s 4ms/step - loss: 0.0351 - accuracy: 0.9912\n",
            "Epoch 8/100\n",
            "15/15 [==============================] - 0s 4ms/step - loss: 0.0301 - accuracy: 0.9912\n",
            "Epoch 9/100\n",
            "15/15 [==============================] - 0s 4ms/step - loss: 0.0263 - accuracy: 0.9912\n",
            "Epoch 10/100\n",
            "15/15 [==============================] - 0s 4ms/step - loss: 0.0291 - accuracy: 0.9912\n",
            "Epoch 11/100\n",
            "15/15 [==============================] - 0s 3ms/step - loss: 0.0213 - accuracy: 0.9956\n",
            "Epoch 12/100\n",
            "15/15 [==============================] - 0s 4ms/step - loss: 0.0173 - accuracy: 0.9956\n",
            "Epoch 13/100\n",
            "15/15 [==============================] - 0s 5ms/step - loss: 0.0145 - accuracy: 0.9956\n",
            "Epoch 14/100\n",
            "15/15 [==============================] - 0s 3ms/step - loss: 0.0116 - accuracy: 1.0000\n",
            "Epoch 15/100\n",
            "15/15 [==============================] - 0s 3ms/step - loss: 0.0095 - accuracy: 0.9978\n",
            "Epoch 16/100\n",
            "15/15 [==============================] - 0s 4ms/step - loss: 0.0081 - accuracy: 1.0000\n",
            "Epoch 17/100\n",
            "15/15 [==============================] - 0s 4ms/step - loss: 0.0070 - accuracy: 1.0000\n",
            "Epoch 18/100\n",
            "15/15 [==============================] - 0s 4ms/step - loss: 0.0064 - accuracy: 1.0000\n",
            "Epoch 19/100\n",
            "15/15 [==============================] - 0s 4ms/step - loss: 0.0092 - accuracy: 0.9978\n",
            "Epoch 20/100\n",
            "15/15 [==============================] - 0s 4ms/step - loss: 0.0057 - accuracy: 1.0000\n",
            "Epoch 21/100\n",
            "15/15 [==============================] - 0s 5ms/step - loss: 0.0043 - accuracy: 1.0000\n",
            "Epoch 22/100\n",
            "15/15 [==============================] - 0s 4ms/step - loss: 0.0041 - accuracy: 1.0000\n",
            "Epoch 23/100\n",
            "15/15 [==============================] - 0s 4ms/step - loss: 0.0036 - accuracy: 1.0000\n",
            "Epoch 24/100\n",
            "15/15 [==============================] - 0s 4ms/step - loss: 0.0050 - accuracy: 0.9978\n",
            "Epoch 25/100\n",
            "15/15 [==============================] - 0s 4ms/step - loss: 0.0047 - accuracy: 1.0000\n",
            "Epoch 26/100\n",
            "15/15 [==============================] - 0s 4ms/step - loss: 0.0031 - accuracy: 1.0000\n",
            "Epoch 27/100\n",
            "15/15 [==============================] - 0s 4ms/step - loss: 0.0025 - accuracy: 1.0000\n",
            "Epoch 28/100\n",
            "15/15 [==============================] - 0s 5ms/step - loss: 0.0025 - accuracy: 1.0000\n",
            "Epoch 29/100\n",
            "15/15 [==============================] - 0s 4ms/step - loss: 0.0017 - accuracy: 1.0000\n",
            "Epoch 30/100\n",
            "15/15 [==============================] - 0s 5ms/step - loss: 0.0015 - accuracy: 1.0000\n",
            "Epoch 31/100\n",
            "15/15 [==============================] - 0s 5ms/step - loss: 0.0013 - accuracy: 1.0000\n",
            "Epoch 32/100\n",
            "15/15 [==============================] - 0s 4ms/step - loss: 0.0013 - accuracy: 1.0000\n",
            "Epoch 33/100\n",
            "15/15 [==============================] - 0s 5ms/step - loss: 0.0016 - accuracy: 1.0000\n",
            "Epoch 34/100\n",
            "15/15 [==============================] - 0s 5ms/step - loss: 0.0014 - accuracy: 1.0000\n",
            "Epoch 35/100\n",
            "15/15 [==============================] - 0s 5ms/step - loss: 0.0011 - accuracy: 1.0000\n",
            "Epoch 36/100\n",
            "15/15 [==============================] - 0s 4ms/step - loss: 8.7160e-04 - accuracy: 1.0000\n",
            "Epoch 37/100\n",
            "15/15 [==============================] - 0s 4ms/step - loss: 7.8958e-04 - accuracy: 1.0000\n",
            "Epoch 38/100\n",
            "15/15 [==============================] - 0s 4ms/step - loss: 7.1066e-04 - accuracy: 1.0000\n",
            "Epoch 39/100\n",
            "15/15 [==============================] - 0s 4ms/step - loss: 6.6674e-04 - accuracy: 1.0000\n",
            "Epoch 40/100\n",
            "15/15 [==============================] - 0s 4ms/step - loss: 6.4507e-04 - accuracy: 1.0000\n",
            "Epoch 41/100\n",
            "15/15 [==============================] - 0s 3ms/step - loss: 6.0623e-04 - accuracy: 1.0000\n",
            "Epoch 42/100\n",
            "15/15 [==============================] - 0s 4ms/step - loss: 5.7155e-04 - accuracy: 1.0000\n",
            "Epoch 43/100\n",
            "15/15 [==============================] - 0s 4ms/step - loss: 5.5793e-04 - accuracy: 1.0000\n",
            "Epoch 44/100\n",
            "15/15 [==============================] - 0s 4ms/step - loss: 5.7046e-04 - accuracy: 1.0000\n",
            "Epoch 45/100\n",
            "15/15 [==============================] - 0s 5ms/step - loss: 4.7028e-04 - accuracy: 1.0000\n",
            "Epoch 46/100\n",
            "15/15 [==============================] - 0s 4ms/step - loss: 4.5714e-04 - accuracy: 1.0000\n",
            "Epoch 47/100\n",
            "15/15 [==============================] - 0s 4ms/step - loss: 4.2364e-04 - accuracy: 1.0000\n",
            "Epoch 48/100\n",
            "15/15 [==============================] - 0s 4ms/step - loss: 4.9992e-04 - accuracy: 1.0000\n",
            "Epoch 49/100\n",
            "15/15 [==============================] - 0s 5ms/step - loss: 3.9617e-04 - accuracy: 1.0000\n",
            "Epoch 50/100\n",
            "15/15 [==============================] - 0s 5ms/step - loss: 3.8601e-04 - accuracy: 1.0000\n",
            "Epoch 51/100\n",
            "15/15 [==============================] - 0s 4ms/step - loss: 3.4485e-04 - accuracy: 1.0000\n",
            "Epoch 52/100\n",
            "15/15 [==============================] - 0s 4ms/step - loss: 3.2319e-04 - accuracy: 1.0000\n",
            "Epoch 53/100\n",
            "15/15 [==============================] - 0s 4ms/step - loss: 3.2163e-04 - accuracy: 1.0000\n",
            "Epoch 54/100\n",
            "15/15 [==============================] - 0s 4ms/step - loss: 2.9904e-04 - accuracy: 1.0000\n",
            "Epoch 55/100\n",
            "15/15 [==============================] - 0s 4ms/step - loss: 2.8412e-04 - accuracy: 1.0000\n",
            "Epoch 56/100\n",
            "15/15 [==============================] - 0s 4ms/step - loss: 2.7412e-04 - accuracy: 1.0000\n",
            "Epoch 57/100\n",
            "15/15 [==============================] - 0s 3ms/step - loss: 2.6450e-04 - accuracy: 1.0000\n",
            "Epoch 58/100\n",
            "15/15 [==============================] - 0s 4ms/step - loss: 2.5054e-04 - accuracy: 1.0000\n",
            "Epoch 59/100\n",
            "15/15 [==============================] - 0s 4ms/step - loss: 2.4311e-04 - accuracy: 1.0000\n",
            "Epoch 60/100\n",
            "15/15 [==============================] - 0s 4ms/step - loss: 2.2946e-04 - accuracy: 1.0000\n",
            "Epoch 61/100\n",
            "15/15 [==============================] - 0s 4ms/step - loss: 2.3113e-04 - accuracy: 1.0000\n",
            "Epoch 62/100\n",
            "15/15 [==============================] - 0s 4ms/step - loss: 2.1656e-04 - accuracy: 1.0000\n",
            "Epoch 63/100\n",
            "15/15 [==============================] - 0s 3ms/step - loss: 2.0797e-04 - accuracy: 1.0000\n",
            "Epoch 64/100\n",
            "15/15 [==============================] - 0s 5ms/step - loss: 2.0983e-04 - accuracy: 1.0000\n",
            "Epoch 65/100\n",
            "15/15 [==============================] - 0s 4ms/step - loss: 1.9490e-04 - accuracy: 1.0000\n",
            "Epoch 66/100\n",
            "15/15 [==============================] - 0s 4ms/step - loss: 1.8694e-04 - accuracy: 1.0000\n",
            "Epoch 67/100\n",
            "15/15 [==============================] - 0s 4ms/step - loss: 1.8121e-04 - accuracy: 1.0000\n",
            "Epoch 68/100\n",
            "15/15 [==============================] - 0s 4ms/step - loss: 1.8319e-04 - accuracy: 1.0000\n",
            "Epoch 69/100\n",
            "15/15 [==============================] - 0s 4ms/step - loss: 1.7267e-04 - accuracy: 1.0000\n",
            "Epoch 70/100\n",
            "15/15 [==============================] - 0s 4ms/step - loss: 1.6011e-04 - accuracy: 1.0000\n",
            "Epoch 71/100\n",
            "15/15 [==============================] - 0s 4ms/step - loss: 1.5182e-04 - accuracy: 1.0000\n",
            "Epoch 72/100\n",
            "15/15 [==============================] - 0s 4ms/step - loss: 1.4640e-04 - accuracy: 1.0000\n",
            "Epoch 73/100\n",
            "15/15 [==============================] - 0s 5ms/step - loss: 1.4303e-04 - accuracy: 1.0000\n",
            "Epoch 74/100\n",
            "15/15 [==============================] - 0s 4ms/step - loss: 1.3978e-04 - accuracy: 1.0000\n",
            "Epoch 75/100\n",
            "15/15 [==============================] - 0s 4ms/step - loss: 1.3123e-04 - accuracy: 1.0000\n",
            "Epoch 76/100\n",
            "15/15 [==============================] - 0s 4ms/step - loss: 1.2757e-04 - accuracy: 1.0000\n",
            "Epoch 77/100\n",
            "15/15 [==============================] - 0s 4ms/step - loss: 1.2388e-04 - accuracy: 1.0000\n",
            "Epoch 78/100\n",
            "15/15 [==============================] - 0s 4ms/step - loss: 1.2037e-04 - accuracy: 1.0000\n",
            "Epoch 79/100\n",
            "15/15 [==============================] - 0s 4ms/step - loss: 1.1770e-04 - accuracy: 1.0000\n",
            "Epoch 80/100\n",
            "15/15 [==============================] - 0s 5ms/step - loss: 1.1441e-04 - accuracy: 1.0000\n",
            "Epoch 81/100\n",
            "15/15 [==============================] - 0s 4ms/step - loss: 1.1331e-04 - accuracy: 1.0000\n",
            "Epoch 82/100\n",
            "15/15 [==============================] - 0s 4ms/step - loss: 1.0637e-04 - accuracy: 1.0000\n",
            "Epoch 83/100\n",
            "15/15 [==============================] - 0s 4ms/step - loss: 1.0330e-04 - accuracy: 1.0000\n",
            "Epoch 84/100\n",
            "15/15 [==============================] - 0s 4ms/step - loss: 9.9461e-05 - accuracy: 1.0000\n",
            "Epoch 85/100\n",
            "15/15 [==============================] - 0s 5ms/step - loss: 9.9798e-05 - accuracy: 1.0000\n",
            "Epoch 86/100\n",
            "15/15 [==============================] - 0s 5ms/step - loss: 9.7194e-05 - accuracy: 1.0000\n",
            "Epoch 87/100\n",
            "15/15 [==============================] - 0s 4ms/step - loss: 9.1691e-05 - accuracy: 1.0000\n",
            "Epoch 88/100\n",
            "15/15 [==============================] - 0s 4ms/step - loss: 9.0016e-05 - accuracy: 1.0000\n",
            "Epoch 89/100\n",
            "15/15 [==============================] - 0s 4ms/step - loss: 8.6041e-05 - accuracy: 1.0000\n",
            "Epoch 90/100\n",
            "15/15 [==============================] - 0s 4ms/step - loss: 8.5216e-05 - accuracy: 1.0000\n",
            "Epoch 91/100\n",
            "15/15 [==============================] - 0s 4ms/step - loss: 8.4014e-05 - accuracy: 1.0000\n",
            "Epoch 92/100\n",
            "15/15 [==============================] - 0s 4ms/step - loss: 8.0629e-05 - accuracy: 1.0000\n",
            "Epoch 93/100\n",
            "15/15 [==============================] - 0s 4ms/step - loss: 7.9447e-05 - accuracy: 1.0000\n",
            "Epoch 94/100\n",
            "15/15 [==============================] - 0s 6ms/step - loss: 7.9487e-05 - accuracy: 1.0000\n",
            "Epoch 95/100\n",
            "15/15 [==============================] - 0s 4ms/step - loss: 7.5778e-05 - accuracy: 1.0000\n",
            "Epoch 96/100\n",
            "15/15 [==============================] - 0s 4ms/step - loss: 7.5444e-05 - accuracy: 1.0000\n",
            "Epoch 97/100\n",
            "15/15 [==============================] - 0s 4ms/step - loss: 6.9959e-05 - accuracy: 1.0000\n",
            "Epoch 98/100\n",
            "15/15 [==============================] - 0s 5ms/step - loss: 6.8183e-05 - accuracy: 1.0000\n",
            "Epoch 99/100\n",
            "15/15 [==============================] - 0s 4ms/step - loss: 6.6389e-05 - accuracy: 1.0000\n",
            "Epoch 100/100\n",
            "15/15 [==============================] - 0s 4ms/step - loss: 6.5128e-05 - accuracy: 1.0000\n"
          ]
        },
        {
          "output_type": "execute_result",
          "data": {
            "text/plain": [
              "<keras.callbacks.History at 0x7c05c8d8a6b0>"
            ]
          },
          "metadata": {},
          "execution_count": 10
        }
      ]
    },
    {
      "cell_type": "code",
      "source": [
        "model.evaluate(x_test, y_test)"
      ],
      "metadata": {
        "colab": {
          "base_uri": "https://localhost:8080/"
        },
        "id": "9iHjsxJkDOfn",
        "outputId": "a2a1a7c4-34f8-46e5-9529-37b6071ef019"
      },
      "execution_count": 11,
      "outputs": [
        {
          "output_type": "stream",
          "name": "stdout",
          "text": [
            "4/4 [==============================] - 0s 7ms/step - loss: 0.0089 - accuracy: 1.0000\n"
          ]
        },
        {
          "output_type": "execute_result",
          "data": {
            "text/plain": [
              "[0.008913038298487663, 1.0]"
            ]
          },
          "metadata": {},
          "execution_count": 11
        }
      ]
    },
    {
      "cell_type": "code",
      "source": [],
      "metadata": {
        "id": "nONlIUpiDVIq"
      },
      "execution_count": null,
      "outputs": []
    }
  ]
}